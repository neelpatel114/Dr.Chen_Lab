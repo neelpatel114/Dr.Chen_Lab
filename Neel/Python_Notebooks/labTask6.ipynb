{
 "cells": [
  {
   "cell_type": "code",
   "execution_count": null,
   "metadata": {},
   "outputs": [],
   "source": [
    "#3. for mgs_sw_catie\n",
    "#/mnt/data_schen_1/jingchun/scz_plink_scores/\n",
    "#chr_all.bim\n",
    "#some of them are chr:BP,\n",
    "#change them to rs#\n",
    "\n",
    "import pandas as pd \n",
    "import numpy as np \n",
    "\n"
   ]
  },
  {
   "cell_type": "code",
   "execution_count": null,
   "metadata": {},
   "outputs": [],
   "source": [
    "#Root drive alias\n",
    "root = '/Users/npatel/Desktop/Dr.Chen_Lab/Neel_Data_Results/Task6-RemoveChr'\n",
    "\n",
    "#Import data \n",
    "\n",
    "data = pd.read_csv(\"/Users/npatel/Desktop/Dr.Chen_Lab/Neel_Data_Results/Task6-RemoveChr/chr_all.bim\", sep = '\\s+', header = None)\n"
   ]
  },
  {
   "cell_type": "code",
   "execution_count": null,
   "metadata": {},
   "outputs": [],
   "source": [
    "data[0] = data[0].str[3:]\n",
    "data\n",
    "\n"
   ]
  },
  {
   "cell_type": "code",
   "execution_count": null,
   "metadata": {},
   "outputs": [],
   "source": [
    "data.to_csv(\"/Users/npatel/Desktop/Dr.Chen_Lab/Neel_Data_Results/Task6-RemoveChr\", sep = ' ',header = False, index = False)"
   ]
  }
 ],
 "metadata": {
  "language_info": {
   "name": "python"
  },
  "orig_nbformat": 4
 },
 "nbformat": 4,
 "nbformat_minor": 2
}
