{
 "cells": [
  {
   "cell_type": "code",
   "execution_count": 1,
   "metadata": {},
   "outputs": [],
   "source": [
    "#make bim file from 1KG_phase3_v5b (done)\n",
    "\n",
    "#/mnt/data_schen_1/jingchun/dbgap_AI_project/reference/ALL_1KG_phase3_v5a/\n",
    "#ALL.chr1-22.phase3_v5a_final.bim\n",
    "\n",
    "#1. make a list \n",
    "#chr:bp rs#\n",
    "#ex: 1:2000 rs123 \n",
    "#no header\n",
    "\n",
    "#Import libraries \n",
    "import pandas as pd \n",
    "import numpy as np  \n",
    "\n"
   ]
  },
  {
   "cell_type": "code",
   "execution_count": 2,
   "metadata": {},
   "outputs": [],
   "source": [
    "#Root directory for Task \n",
    "root = '/Users/npatel/Desktop/Dr.Chen_Lab/Neel_Data_Results/Task4-All.chr1-22.phase_v5a_final'\n",
    "\n",
    "#Import Data \n",
    "All = pd.read_csv(\"/Users/npatel/Desktop/Dr.Chen_Lab/Neel_Data_Results/Task4-All.chr1-22.phase_v5a_final/ALL.chr1-22.phase3_v5a_final.bim\", sep = '\\s+',header =None )"
   ]
  },
  {
   "cell_type": "code",
   "execution_count": 3,
   "metadata": {},
   "outputs": [
    {
     "data": {
      "text/html": [
       "<div>\n",
       "<style scoped>\n",
       "    .dataframe tbody tr th:only-of-type {\n",
       "        vertical-align: middle;\n",
       "    }\n",
       "\n",
       "    .dataframe tbody tr th {\n",
       "        vertical-align: top;\n",
       "    }\n",
       "\n",
       "    .dataframe thead th {\n",
       "        text-align: right;\n",
       "    }\n",
       "</style>\n",
       "<table border=\"1\" class=\"dataframe\">\n",
       "  <thead>\n",
       "    <tr style=\"text-align: right;\">\n",
       "      <th></th>\n",
       "      <th>0</th>\n",
       "      <th>1</th>\n",
       "    </tr>\n",
       "  </thead>\n",
       "  <tbody>\n",
       "    <tr>\n",
       "      <th>0</th>\n",
       "      <td>1:10177</td>\n",
       "      <td>rs367896724</td>\n",
       "    </tr>\n",
       "    <tr>\n",
       "      <th>1</th>\n",
       "      <td>1:10235</td>\n",
       "      <td>rs540431307</td>\n",
       "    </tr>\n",
       "    <tr>\n",
       "      <th>2</th>\n",
       "      <td>1:10352</td>\n",
       "      <td>rs555500075</td>\n",
       "    </tr>\n",
       "    <tr>\n",
       "      <th>3</th>\n",
       "      <td>1:10616</td>\n",
       "      <td>rs376342519</td>\n",
       "    </tr>\n",
       "    <tr>\n",
       "      <th>4</th>\n",
       "      <td>1:10642</td>\n",
       "      <td>rs558604819</td>\n",
       "    </tr>\n",
       "    <tr>\n",
       "      <th>...</th>\n",
       "      <td>...</td>\n",
       "      <td>...</td>\n",
       "    </tr>\n",
       "    <tr>\n",
       "      <th>28344004</th>\n",
       "      <td>22:51241102</td>\n",
       "      <td>rs533336397</td>\n",
       "    </tr>\n",
       "    <tr>\n",
       "      <th>28344005</th>\n",
       "      <td>22:51241285</td>\n",
       "      <td>rs7287738</td>\n",
       "    </tr>\n",
       "    <tr>\n",
       "      <th>28344006</th>\n",
       "      <td>22:51241386</td>\n",
       "      <td>rs568168135</td>\n",
       "    </tr>\n",
       "    <tr>\n",
       "      <th>28344007</th>\n",
       "      <td>22:51244163</td>\n",
       "      <td>rs199560686</td>\n",
       "    </tr>\n",
       "    <tr>\n",
       "      <th>28344008</th>\n",
       "      <td>22:51244237</td>\n",
       "      <td>rs575160859</td>\n",
       "    </tr>\n",
       "  </tbody>\n",
       "</table>\n",
       "<p>28344009 rows × 2 columns</p>\n",
       "</div>"
      ],
      "text/plain": [
       "                    0            1\n",
       "0             1:10177  rs367896724\n",
       "1             1:10235  rs540431307\n",
       "2             1:10352  rs555500075\n",
       "3             1:10616  rs376342519\n",
       "4             1:10642  rs558604819\n",
       "...               ...          ...\n",
       "28344004  22:51241102  rs533336397\n",
       "28344005  22:51241285    rs7287738\n",
       "28344006  22:51241386  rs568168135\n",
       "28344007  22:51244163  rs199560686\n",
       "28344008  22:51244237  rs575160859\n",
       "\n",
       "[28344009 rows x 2 columns]"
      ]
     },
     "execution_count": 3,
     "metadata": {},
     "output_type": "execute_result"
    }
   ],
   "source": [
    "All = All[[0,1,3]]\n",
    "All[0] = All[0].astype(str) + ':' + All[3].astype(str)\n",
    "All = All[[0,1]]\n",
    "All"
   ]
  },
  {
   "cell_type": "code",
   "execution_count": 5,
   "metadata": {},
   "outputs": [],
   "source": [
    "All.to_csv(\"/Users/npatel/Desktop/Dr.Chen_Lab/Neel_Data_Results/Task4-All.chr1-22.phase_v5a_final/ALL.chr1-22.phase3_v5a_final_chrbp_rs.bim\", sep = ' ',header = False, index = False)"
   ]
  }
 ],
 "metadata": {
  "interpreter": {
   "hash": "91ce0e6d07570e9549c9fcc2a9a338a938ef2f89766f294086bf516241e39d4b"
  },
  "kernelspec": {
   "display_name": "Python 3.9.9 64-bit ('.venv': venv)",
   "language": "python",
   "name": "python3"
  },
  "language_info": {
   "codemirror_mode": {
    "name": "ipython",
    "version": 3
   },
   "file_extension": ".py",
   "mimetype": "text/x-python",
   "name": "python",
   "nbconvert_exporter": "python",
   "pygments_lexer": "ipython3",
   "version": "3.9.9"
  },
  "orig_nbformat": 4
 },
 "nbformat": 4,
 "nbformat_minor": 2
}
