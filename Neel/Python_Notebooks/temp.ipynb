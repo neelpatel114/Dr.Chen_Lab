{
 "cells": [
  {
   "cell_type": "code",
   "execution_count": 5,
   "metadata": {},
   "outputs": [],
   "source": [
    "import pandas as pd\n",
    "import numpy as np\n",
    "import re"
   ]
  },
  {
   "cell_type": "code",
   "execution_count": 21,
   "metadata": {},
   "outputs": [],
   "source": [
    "All_SNP = pd.read_csv(\"/Users/npatel/Desktop/Dr.Chen_Lab/Neel_Data_Results/Task5-UpdateSCZ_BP_MD_All/SCZ_BP_MD_All_1e-5_SNP.list\", sep = '\\s+', header = None)\n",
    "All_SNP.rename(columns = {0:\"RS\"},inplace = True)\n",
    "All_SNP['RS'] = All_SNP['RS'].astype(str)"
   ]
  },
  {
   "cell_type": "code",
   "execution_count": 22,
   "metadata": {},
   "outputs": [],
   "source": [
    "\n",
    "All_SNP['RS'] = All_SNP['RS'].str.split('>').str[0]"
   ]
  },
  {
   "cell_type": "code",
   "execution_count": 23,
   "metadata": {},
   "outputs": [
    {
     "data": {
      "text/html": [
       "<div>\n",
       "<style scoped>\n",
       "    .dataframe tbody tr th:only-of-type {\n",
       "        vertical-align: middle;\n",
       "    }\n",
       "\n",
       "    .dataframe tbody tr th {\n",
       "        vertical-align: top;\n",
       "    }\n",
       "\n",
       "    .dataframe thead th {\n",
       "        text-align: right;\n",
       "    }\n",
       "</style>\n",
       "<table border=\"1\" class=\"dataframe\">\n",
       "  <thead>\n",
       "    <tr style=\"text-align: right;\">\n",
       "      <th></th>\n",
       "      <th>RS</th>\n",
       "    </tr>\n",
       "  </thead>\n",
       "  <tbody>\n",
       "    <tr>\n",
       "      <th>0</th>\n",
       "      <td>rs1889853</td>\n",
       "    </tr>\n",
       "    <tr>\n",
       "      <th>1</th>\n",
       "      <td>rs3795310</td>\n",
       "    </tr>\n",
       "    <tr>\n",
       "      <th>2</th>\n",
       "      <td>rs2636314</td>\n",
       "    </tr>\n",
       "    <tr>\n",
       "      <th>3</th>\n",
       "      <td>rs2708628</td>\n",
       "    </tr>\n",
       "    <tr>\n",
       "      <th>4</th>\n",
       "      <td>rs2708631</td>\n",
       "    </tr>\n",
       "    <tr>\n",
       "      <th>...</th>\n",
       "      <td>...</td>\n",
       "    </tr>\n",
       "    <tr>\n",
       "      <th>78844</th>\n",
       "      <td>rs9870634</td>\n",
       "    </tr>\n",
       "    <tr>\n",
       "      <th>78845</th>\n",
       "      <td>rs4682749</td>\n",
       "    </tr>\n",
       "    <tr>\n",
       "      <th>78846</th>\n",
       "      <td>rs9812663</td>\n",
       "    </tr>\n",
       "    <tr>\n",
       "      <th>78847</th>\n",
       "      <td>rs2279908</td>\n",
       "    </tr>\n",
       "    <tr>\n",
       "      <th>78848</th>\n",
       "      <td>rs139129362</td>\n",
       "    </tr>\n",
       "  </tbody>\n",
       "</table>\n",
       "<p>78849 rows × 1 columns</p>\n",
       "</div>"
      ],
      "text/plain": [
       "                RS\n",
       "0        rs1889853\n",
       "1        rs3795310\n",
       "2        rs2636314\n",
       "3        rs2708628\n",
       "4        rs2708631\n",
       "...            ...\n",
       "78844    rs9870634\n",
       "78845    rs4682749\n",
       "78846    rs9812663\n",
       "78847    rs2279908\n",
       "78848  rs139129362\n",
       "\n",
       "[78849 rows x 1 columns]"
      ]
     },
     "execution_count": 23,
     "metadata": {},
     "output_type": "execute_result"
    }
   ],
   "source": [
    "All_SNP['RS'] = All_SNP['RS'].str.split('<').str[0]"
   ]
  }
 ],
 "metadata": {
  "interpreter": {
   "hash": "b0fa6594d8f4cbf19f97940f81e996739fb7646882a419484c72d19e05852a7e"
  },
  "kernelspec": {
   "display_name": "Python 3.9.9 64-bit",
   "language": "python",
   "name": "python3"
  },
  "language_info": {
   "codemirror_mode": {
    "name": "ipython",
    "version": 3
   },
   "file_extension": ".py",
   "mimetype": "text/x-python",
   "name": "python",
   "nbconvert_exporter": "python",
   "pygments_lexer": "ipython3",
   "version": "3.9.9"
  },
  "orig_nbformat": 4
 },
 "nbformat": 4,
 "nbformat_minor": 2
}
