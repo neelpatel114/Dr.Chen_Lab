{
 "cells": [
  {
   "cell_type": "code",
   "execution_count": 1,
   "metadata": {},
   "outputs": [],
   "source": [
    "#!/usr/bin/python\n",
    "\n",
    "#To run progrom use command line below:\n",
    "# python Gen123.py -t <Tagertfile> -b <Basename.list> -n <folder_prefix> -o <<prefix>_5traits_step123_5e8_allscores.sh> \n",
    "\n",
    "import pandas as pd\n",
    "import numpy as np\n",
    "import sys"
   ]
  },
  {
   "cell_type": "code",
   "execution_count": 2,
   "metadata": {},
   "outputs": [],
   "source": [
    "\n",
    "#Get command line arguments \n",
    "\n",
    "import sys, getopt\n",
    "\n",
    "def main(argv):\n",
    "   inputfile1 = ''\n",
    "   inputfile2 = ''\n",
    "   inputfile3 = ''\n",
    "   outputfile = ''\n",
    "   try:\n",
    "      opts, args = getopt.getopt(argv,\"hi:o:\",[\"i1file=\",\"i2file=\",\"i3file=\",\"ofile=\"])\n",
    "   except getopt.GetoptError:\n",
    "      print('test.py -t <inputfile1> -b <inputfile2> -n <inputfile3> -o <outputfile>')\n",
    "      sys.exit(2)\n",
    "   for opt, arg in opts:\n",
    "      if opt == '-h':\n",
    "         print('test.py -t <inputfile> -b <inputfile> -n <inputfile> -o <outputfile>')\n",
    "         sys.exit()\n",
    "      elif opt in (\"-i\", \"--ifile1\"):\n",
    "         inputfile1 = arg\n",
    "      elif opt in (\"-t\", \"--ifile2\"):\n",
    "         inputfile2 = arg\n",
    "      elif opt in (\"-b\", \"--ifile3\"):\n",
    "         inputfile3 = arg\n",
    "      elif opt in (\"-o\", \"--ofile\"):\n",
    "         outputfile = arg\n",
    "   #first data with (ID , ID, mother, father, sex, diagnosis). Goal to update diagnosis \n",
    "   data1File = inputfile1\n",
    "   data2File = inputfile2\n",
    "   data3File = inputfile3\n",
    "   dataOutputFile = outputfile"
   ]
  },
  {
   "cell_type": "code",
   "execution_count": 4,
   "metadata": {},
   "outputs": [],
   "source": []
  },
  {
   "cell_type": "code",
   "execution_count": 5,
   "metadata": {},
   "outputs": [],
   "source": [
    "#base_folder = '/mnt/data_schen_1/jingchun/'\n",
    "#bash_name = 'scores_task_step1and2_wtccc.sh'\n",
    "#\n",
    "## Creates the bash file with all commands to be executed\n",
    "#with open(bash_name, 'w') as file:\n",
    "#    for i in range(len(bases)):\n",
    "#\n",
    "#        command1 = (\n",
    "#        '/mnt/data_schen_1/jingchun/scz_plink_scores/PRSICE2.3.5/PRSice_linux --fastscore --base ' + \n",
    "#        '/mnt/data_schen_1/jingchun/gwas_data/' + bases[i] +\n",
    "#        ' --chr CHR --snp SNP1 --bp BP --A1 A1 --A2 A2 --pvalue P' +\n",
    "#        ' --stat ' + or_headers[i] +\n",
    "#        ' --clump-kb 250 --clump-p 1 --clump-r2 0.1 --bar-levels 0.00000001,0.00001,0.001,0.1' + \n",
    "#        ' --model add --out ' + out_files[i] + '/' + out_files[i] + \n",
    "#        ' --all-score '+ out_files[i] + '/' + out_files[i] +\n",
    "#        ' --binary-target T --target ' + wtccc_target +\n",
    "#        ' --thread 1 --upper 1'\n",
    "#        )\n",
    "#        file.write(command1)\n",
    "#        file.write('\\n\\n')\n",
    "#\n",
    "#        command2 = (\n",
    "#        '/mnt/data_schen_1/jingchun/scz_plink_scores/PRSICE2.3.5/PRSice_linux --fastscore --base ' + \n",
    "#        '/mnt/data_schen_1/jingchun/gwas_data/' + bases[i] +\n",
    "#        ' --chr CHR --snp SNP1 --bp BP --A1 A1 --A2 A2 --pvalue P' +\n",
    "#        ' --stat ' + or_headers[i] +\n",
    "#        ' --clump-kb 250 --clump-p 1 --clump-r2 0.1 --bar-levels 0.00000001,0.00001,0.001,0.1' + \n",
    "#        ' --model add --out ' + out_files[i] + '/' + out_files[i] + \n",
    "#        ' --all-score '+ out_files[i] + '/' + out_files[i] +\n",
    "#        ' --binary-target T --target ' + wtccc_target +\n",
    "#        ' --thread 1 --upper 1' +\n",
    "#        ' --extract ' + out_files[i] + '/' + out_files[i] + '.valid'\n",
    "#        )\n",
    "#        file.write(command2)\n",
    "#        file.write('\\n\\n\\n')"
   ]
  },
  {
   "cell_type": "code",
   "execution_count": null,
   "metadata": {},
   "outputs": [],
   "source": []
  },
  {
   "cell_type": "code",
   "execution_count": null,
   "metadata": {},
   "outputs": [],
   "source": []
  }
 ],
 "metadata": {
  "interpreter": {
   "hash": "b3ba2566441a7c06988d0923437866b63cedc61552a5af99d1f4fb67d367b25f"
  },
  "kernelspec": {
   "display_name": "Python 3.9.7 64-bit ('base': conda)",
   "language": "python",
   "name": "python3"
  },
  "language_info": {
   "codemirror_mode": {
    "name": "ipython",
    "version": 3
   },
   "file_extension": ".py",
   "mimetype": "text/x-python",
   "name": "python",
   "nbconvert_exporter": "python",
   "pygments_lexer": "ipython3",
   "version": "3.9.9"
  },
  "orig_nbformat": 4
 },
 "nbformat": 4,
 "nbformat_minor": 2
}
