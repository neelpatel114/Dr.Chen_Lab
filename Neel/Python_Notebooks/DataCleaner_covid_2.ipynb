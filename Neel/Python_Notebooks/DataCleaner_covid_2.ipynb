{
 "cells": [
  {
   "cell_type": "code",
   "execution_count": 1,
   "metadata": {},
   "outputs": [],
   "source": [
    "import os\n",
    "import pandas as pd\n",
    "import numpy as np \n"
   ]
  },
  {
   "cell_type": "code",
   "execution_count": 2,
   "metadata": {},
   "outputs": [
    {
     "ename": "FileNotFoundError",
     "evalue": "[Errno 2] No such file or directory: '/mnt/data_schen_1/jingchun/gwas_data/COVID-19/COVID19_hg/covid19_hg_basefiles/'",
     "output_type": "error",
     "traceback": [
      "\u001b[0;31m---------------------------------------------------------------------------\u001b[0m",
      "\u001b[0;31mFileNotFoundError\u001b[0m                         Traceback (most recent call last)",
      "\u001b[0;32m/var/folders/69/9n6tch_943x7rcbhpz476s8c0000gn/T/ipykernel_42769/3949231799.py\u001b[0m in \u001b[0;36m<module>\u001b[0;34m\u001b[0m\n\u001b[1;32m      2\u001b[0m \u001b[0mread_path\u001b[0m \u001b[0;34m=\u001b[0m \u001b[0;34m'/mnt/data_schen_1/jingchun/gwas_data/COVID-19/COVID19_hg/covid19_hg_basefiles/'\u001b[0m\u001b[0;34m\u001b[0m\u001b[0;34m\u001b[0m\u001b[0m\n\u001b[1;32m      3\u001b[0m \u001b[0mwrite_path\u001b[0m \u001b[0;34m=\u001b[0m \u001b[0;34m'/mnt/data_schen_1/jingchun/gwas_data/COVID-19/COVID19_hg/covid19_hg_basefiles_allsnpid'\u001b[0m\u001b[0;34m\u001b[0m\u001b[0;34m\u001b[0m\u001b[0m\n\u001b[0;32m----> 4\u001b[0;31m \u001b[0mdirectory\u001b[0m \u001b[0;34m=\u001b[0m \u001b[0mos\u001b[0m\u001b[0;34m.\u001b[0m\u001b[0mlistdir\u001b[0m\u001b[0;34m(\u001b[0m\u001b[0mread_path\u001b[0m\u001b[0;34m)\u001b[0m\u001b[0;34m\u001b[0m\u001b[0;34m\u001b[0m\u001b[0m\n\u001b[0m\u001b[1;32m      5\u001b[0m \u001b[0mfiles\u001b[0m \u001b[0;34m=\u001b[0m \u001b[0;34m[\u001b[0m\u001b[0;34m]\u001b[0m\u001b[0;34m\u001b[0m\u001b[0;34m\u001b[0m\u001b[0m\n\u001b[1;32m      6\u001b[0m \u001b[0;32mfor\u001b[0m \u001b[0mfile\u001b[0m \u001b[0;32min\u001b[0m \u001b[0mdirectory\u001b[0m\u001b[0;34m:\u001b[0m\u001b[0;34m\u001b[0m\u001b[0;34m\u001b[0m\u001b[0m\n",
      "\u001b[0;31mFileNotFoundError\u001b[0m: [Errno 2] No such file or directory: '/mnt/data_schen_1/jingchun/gwas_data/COVID-19/COVID19_hg/covid19_hg_basefiles/'"
     ]
    }
   ],
   "source": [
    "#READ FILES FROM DIRECTORY \n",
    "read_path = '/mnt/data_schen_1/jingchun/gwas_data/COVID-19/COVID19_hg/covid19_hg_basefiles/'\n",
    "write_path = '/mnt/data_schen_1/jingchun/gwas_data/COVID-19/COVID19_hg/covid19_hg_basefiles_allsnpid'\n",
    "directory = os.listdir(read_path)\n",
    "files = []\n",
    "for file in directory:\n",
    "        files.append(file)\n",
    "\n",
    "print(*files)\n"
   ]
  },
  {
   "cell_type": "code",
   "execution_count": null,
   "metadata": {},
   "outputs": [
    {
     "name": "stdout",
     "output_type": "stream",
     "text": [
      "UKBB_covid19_EAStested_061821\n",
      "       CHR         BP          SNP         SNP1               SNP2   A1  A2  \\\n",
      "0        X    2699555     rs311165    X:2699555      X:2699555:C:A    C   A   \n",
      "1        X    2699645   rs28579419    X:2699645      X:2699645:G:T    G   T   \n",
      "2        X    2699676   rs60075487    X:2699676      X:2699676:G:A    G   A   \n",
      "3        X    2699898   rs60233760    X:2699898     X:2699898:C:CT    C  CT   \n",
      "4        X    2699968    rs2306737    X:2699968      X:2699968:A:G    A   G   \n",
      "...     ..        ...          ...          ...                ...  ...  ..   \n",
      "305982   X  154929637  rs762503228  X:154929637   X:154929637:CT:C   CT   C   \n",
      "305983   X  154929952  rs775521832  X:154929952  X:154929952:CAA:C  CAA   C   \n",
      "305984   X  154930230     rs781880  X:154930230    X:154930230:A:G    A   G   \n",
      "305985   X  154930722  rs777595455  X:154930722    X:154930722:C:A    C   A   \n",
      "305986   X  154930725  rs749194379  X:154930725    X:154930725:A:T    A   T   \n",
      "\n",
      "            BETA         P  \n",
      "0       0.076831  0.748456  \n",
      "1       0.605631  0.641126  \n",
      "2       0.082046  0.694514  \n",
      "3       0.071520  0.737809  \n",
      "4       0.016723  0.940790  \n",
      "...          ...       ...  \n",
      "305982  1.192727  0.022185  \n",
      "305983  0.252309  0.472470  \n",
      "305984  0.029719  0.902047  \n",
      "305985  1.236611  0.609893  \n",
      "305986  1.236611  0.609893  \n",
      "\n",
      "[305987 rows x 9 columns]\n"
     ]
    }
   ],
   "source": [
    "#READ INTO DF AND FORMATE \n",
    "\n",
    "for file in files:\n",
    "     df = pd.read_csv(read_path+file, sep='\\t')\n",
    "     df = df[['#CHR', 'POS', 'SNP', 'REF', 'ALT', 'all_inv_var_meta_beta', 'all_inv_var_meta_sebeta_all_inv_var_meta_p']]\n",
    "     df = df.rename(columns={'POS':'BP', 'ALT':'A1', 'REF':'A2', 'all_inv_var_meta_beta':'BETA', 'all_inv_var_meta_sebeta_all_inv_var_meta_p':'P'})\n",
    "     df.insert(3, 'SNP1', df['CHR'].astype(str) + ':' + df['BP'].astype(str))\n",
    "     df.insert(4, 'SNP2', df['CHR'].astype(str) + ':' + df['BP'].astype(str) + ':' + df['A1'].astype(str) + ':' + df['A2'].astype(str))\n",
    "     file = file[:-7]\n",
    "     print(file)\n",
    "     df.to_csv(write_path + file + '.addsnpid.txt.gz', index = False, sep = ' ')\n",
    "     print(df)\n",
    "     "
   ]
  }
 ],
 "metadata": {
  "interpreter": {
   "hash": "91ce0e6d07570e9549c9fcc2a9a338a938ef2f89766f294086bf516241e39d4b"
  },
  "kernelspec": {
   "display_name": "Python 3.9.9 ('.venv': venv)",
   "language": "python",
   "name": "python3"
  },
  "language_info": {
   "codemirror_mode": {
    "name": "ipython",
    "version": 3
   },
   "file_extension": ".py",
   "mimetype": "text/x-python",
   "name": "python",
   "nbconvert_exporter": "python",
   "pygments_lexer": "ipython3",
   "version": "3.9.9"
  },
  "orig_nbformat": 4
 },
 "nbformat": 4,
 "nbformat_minor": 2
}
